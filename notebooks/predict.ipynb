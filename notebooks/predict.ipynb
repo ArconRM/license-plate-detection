{
 "cells": [
  {
   "cell_type": "code",
   "id": "initial_id",
   "metadata": {
    "collapsed": true,
    "ExecuteTime": {
     "end_time": "2025-08-28T07:07:09.525351Z",
     "start_time": "2025-08-28T07:07:08.921378Z"
    }
   },
   "source": "!pip install -r ../requirements.txt",
   "outputs": [
    {
     "name": "stdout",
     "output_type": "stream",
     "text": [
      "Requirement already satisfied: loguru in /Users/artemiymirotvortsev/Documents/GitHub/license-plate-detection/.venv/lib/python3.9/site-packages (from -r ../requirements.txt (line 1)) (0.7.3)\r\n",
      "Requirement already satisfied: mkdocs in /Users/artemiymirotvortsev/Documents/GitHub/license-plate-detection/.venv/lib/python3.9/site-packages (from -r ../requirements.txt (line 2)) (1.6.1)\r\n",
      "Requirement already satisfied: pip in /Users/artemiymirotvortsev/Documents/GitHub/license-plate-detection/.venv/lib/python3.9/site-packages (from -r ../requirements.txt (line 3)) (25.2)\r\n",
      "Requirement already satisfied: python-dotenv in /Users/artemiymirotvortsev/Documents/GitHub/license-plate-detection/.venv/lib/python3.9/site-packages (from -r ../requirements.txt (line 4)) (1.1.1)\r\n",
      "Requirement already satisfied: ruff in /Users/artemiymirotvortsev/Documents/GitHub/license-plate-detection/.venv/lib/python3.9/site-packages (from -r ../requirements.txt (line 5)) (0.12.10)\r\n",
      "Requirement already satisfied: tqdm in /Users/artemiymirotvortsev/Documents/GitHub/license-plate-detection/.venv/lib/python3.9/site-packages (from -r ../requirements.txt (line 6)) (4.67.1)\r\n",
      "Requirement already satisfied: typer in /Users/artemiymirotvortsev/Documents/GitHub/license-plate-detection/.venv/lib/python3.9/site-packages (from -r ../requirements.txt (line 7)) (0.16.1)\r\n",
      "Requirement already satisfied: gdown in /Users/artemiymirotvortsev/Documents/GitHub/license-plate-detection/.venv/lib/python3.9/site-packages (from -r ../requirements.txt (line 8)) (5.2.0)\r\n",
      "Requirement already satisfied: opencv-python in /Users/artemiymirotvortsev/Documents/GitHub/license-plate-detection/.venv/lib/python3.9/site-packages (from -r ../requirements.txt (line 9)) (4.12.0.88)\r\n",
      "Requirement already satisfied: matplotlib in /Users/artemiymirotvortsev/Documents/GitHub/license-plate-detection/.venv/lib/python3.9/site-packages (from -r ../requirements.txt (line 10)) (3.9.4)\r\n",
      "Requirement already satisfied: click>=7.0 in /Users/artemiymirotvortsev/Documents/GitHub/license-plate-detection/.venv/lib/python3.9/site-packages (from mkdocs->-r ../requirements.txt (line 2)) (8.1.8)\r\n",
      "Requirement already satisfied: ghp-import>=1.0 in /Users/artemiymirotvortsev/Documents/GitHub/license-plate-detection/.venv/lib/python3.9/site-packages (from mkdocs->-r ../requirements.txt (line 2)) (2.1.0)\r\n",
      "Requirement already satisfied: importlib-metadata>=4.4 in /Users/artemiymirotvortsev/Documents/GitHub/license-plate-detection/.venv/lib/python3.9/site-packages (from mkdocs->-r ../requirements.txt (line 2)) (8.7.0)\r\n",
      "Requirement already satisfied: jinja2>=2.11.1 in /Users/artemiymirotvortsev/Documents/GitHub/license-plate-detection/.venv/lib/python3.9/site-packages (from mkdocs->-r ../requirements.txt (line 2)) (3.1.6)\r\n",
      "Requirement already satisfied: markdown>=3.3.6 in /Users/artemiymirotvortsev/Documents/GitHub/license-plate-detection/.venv/lib/python3.9/site-packages (from mkdocs->-r ../requirements.txt (line 2)) (3.8.2)\r\n",
      "Requirement already satisfied: markupsafe>=2.0.1 in /Users/artemiymirotvortsev/Documents/GitHub/license-plate-detection/.venv/lib/python3.9/site-packages (from mkdocs->-r ../requirements.txt (line 2)) (3.0.2)\r\n",
      "Requirement already satisfied: mergedeep>=1.3.4 in /Users/artemiymirotvortsev/Documents/GitHub/license-plate-detection/.venv/lib/python3.9/site-packages (from mkdocs->-r ../requirements.txt (line 2)) (1.3.4)\r\n",
      "Requirement already satisfied: mkdocs-get-deps>=0.2.0 in /Users/artemiymirotvortsev/Documents/GitHub/license-plate-detection/.venv/lib/python3.9/site-packages (from mkdocs->-r ../requirements.txt (line 2)) (0.2.0)\r\n",
      "Requirement already satisfied: packaging>=20.5 in /Users/artemiymirotvortsev/Documents/GitHub/license-plate-detection/.venv/lib/python3.9/site-packages (from mkdocs->-r ../requirements.txt (line 2)) (25.0)\r\n",
      "Requirement already satisfied: pathspec>=0.11.1 in /Users/artemiymirotvortsev/Documents/GitHub/license-plate-detection/.venv/lib/python3.9/site-packages (from mkdocs->-r ../requirements.txt (line 2)) (0.12.1)\r\n",
      "Requirement already satisfied: pyyaml-env-tag>=0.1 in /Users/artemiymirotvortsev/Documents/GitHub/license-plate-detection/.venv/lib/python3.9/site-packages (from mkdocs->-r ../requirements.txt (line 2)) (1.1)\r\n",
      "Requirement already satisfied: pyyaml>=5.1 in /Users/artemiymirotvortsev/Documents/GitHub/license-plate-detection/.venv/lib/python3.9/site-packages (from mkdocs->-r ../requirements.txt (line 2)) (6.0.2)\r\n",
      "Requirement already satisfied: watchdog>=2.0 in /Users/artemiymirotvortsev/Documents/GitHub/license-plate-detection/.venv/lib/python3.9/site-packages (from mkdocs->-r ../requirements.txt (line 2)) (6.0.0)\r\n",
      "Requirement already satisfied: typing-extensions>=3.7.4.3 in /Users/artemiymirotvortsev/Documents/GitHub/license-plate-detection/.venv/lib/python3.9/site-packages (from typer->-r ../requirements.txt (line 7)) (4.15.0)\r\n",
      "Requirement already satisfied: shellingham>=1.3.0 in /Users/artemiymirotvortsev/Documents/GitHub/license-plate-detection/.venv/lib/python3.9/site-packages (from typer->-r ../requirements.txt (line 7)) (1.5.4)\r\n",
      "Requirement already satisfied: rich>=10.11.0 in /Users/artemiymirotvortsev/Documents/GitHub/license-plate-detection/.venv/lib/python3.9/site-packages (from typer->-r ../requirements.txt (line 7)) (14.1.0)\r\n",
      "Requirement already satisfied: beautifulsoup4 in /Users/artemiymirotvortsev/Documents/GitHub/license-plate-detection/.venv/lib/python3.9/site-packages (from gdown->-r ../requirements.txt (line 8)) (4.13.5)\r\n",
      "Requirement already satisfied: filelock in /Users/artemiymirotvortsev/Documents/GitHub/license-plate-detection/.venv/lib/python3.9/site-packages (from gdown->-r ../requirements.txt (line 8)) (3.19.1)\r\n",
      "Requirement already satisfied: requests[socks] in /Users/artemiymirotvortsev/Documents/GitHub/license-plate-detection/.venv/lib/python3.9/site-packages (from gdown->-r ../requirements.txt (line 8)) (2.32.5)\r\n",
      "Requirement already satisfied: numpy<2.3.0,>=2 in /Users/artemiymirotvortsev/Documents/GitHub/license-plate-detection/.venv/lib/python3.9/site-packages (from opencv-python->-r ../requirements.txt (line 9)) (2.0.2)\r\n",
      "Requirement already satisfied: contourpy>=1.0.1 in /Users/artemiymirotvortsev/Documents/GitHub/license-plate-detection/.venv/lib/python3.9/site-packages (from matplotlib->-r ../requirements.txt (line 10)) (1.3.0)\r\n",
      "Requirement already satisfied: cycler>=0.10 in /Users/artemiymirotvortsev/Documents/GitHub/license-plate-detection/.venv/lib/python3.9/site-packages (from matplotlib->-r ../requirements.txt (line 10)) (0.12.1)\r\n",
      "Requirement already satisfied: fonttools>=4.22.0 in /Users/artemiymirotvortsev/Documents/GitHub/license-plate-detection/.venv/lib/python3.9/site-packages (from matplotlib->-r ../requirements.txt (line 10)) (4.59.1)\r\n",
      "Requirement already satisfied: kiwisolver>=1.3.1 in /Users/artemiymirotvortsev/Documents/GitHub/license-plate-detection/.venv/lib/python3.9/site-packages (from matplotlib->-r ../requirements.txt (line 10)) (1.4.7)\r\n",
      "Requirement already satisfied: pillow>=8 in /Users/artemiymirotvortsev/Documents/GitHub/license-plate-detection/.venv/lib/python3.9/site-packages (from matplotlib->-r ../requirements.txt (line 10)) (11.3.0)\r\n",
      "Requirement already satisfied: pyparsing>=2.3.1 in /Users/artemiymirotvortsev/Documents/GitHub/license-plate-detection/.venv/lib/python3.9/site-packages (from matplotlib->-r ../requirements.txt (line 10)) (3.2.3)\r\n",
      "Requirement already satisfied: python-dateutil>=2.7 in /Users/artemiymirotvortsev/Documents/GitHub/license-plate-detection/.venv/lib/python3.9/site-packages (from matplotlib->-r ../requirements.txt (line 10)) (2.9.0.post0)\r\n",
      "Requirement already satisfied: importlib-resources>=3.2.0 in /Users/artemiymirotvortsev/Documents/GitHub/license-plate-detection/.venv/lib/python3.9/site-packages (from matplotlib->-r ../requirements.txt (line 10)) (6.5.2)\r\n",
      "Requirement already satisfied: zipp>=3.20 in /Users/artemiymirotvortsev/Documents/GitHub/license-plate-detection/.venv/lib/python3.9/site-packages (from importlib-metadata>=4.4->mkdocs->-r ../requirements.txt (line 2)) (3.23.0)\r\n",
      "Requirement already satisfied: platformdirs>=2.2.0 in /Users/artemiymirotvortsev/Documents/GitHub/license-plate-detection/.venv/lib/python3.9/site-packages (from mkdocs-get-deps>=0.2.0->mkdocs->-r ../requirements.txt (line 2)) (4.4.0)\r\n",
      "Requirement already satisfied: six>=1.5 in /Users/artemiymirotvortsev/Documents/GitHub/license-plate-detection/.venv/lib/python3.9/site-packages (from python-dateutil>=2.7->matplotlib->-r ../requirements.txt (line 10)) (1.17.0)\r\n",
      "Requirement already satisfied: markdown-it-py>=2.2.0 in /Users/artemiymirotvortsev/Documents/GitHub/license-plate-detection/.venv/lib/python3.9/site-packages (from rich>=10.11.0->typer->-r ../requirements.txt (line 7)) (3.0.0)\r\n",
      "Requirement already satisfied: pygments<3.0.0,>=2.13.0 in /Users/artemiymirotvortsev/Documents/GitHub/license-plate-detection/.venv/lib/python3.9/site-packages (from rich>=10.11.0->typer->-r ../requirements.txt (line 7)) (2.19.2)\r\n",
      "Requirement already satisfied: mdurl~=0.1 in /Users/artemiymirotvortsev/Documents/GitHub/license-plate-detection/.venv/lib/python3.9/site-packages (from markdown-it-py>=2.2.0->rich>=10.11.0->typer->-r ../requirements.txt (line 7)) (0.1.2)\r\n",
      "Requirement already satisfied: soupsieve>1.2 in /Users/artemiymirotvortsev/Documents/GitHub/license-plate-detection/.venv/lib/python3.9/site-packages (from beautifulsoup4->gdown->-r ../requirements.txt (line 8)) (2.7)\r\n",
      "Requirement already satisfied: charset_normalizer<4,>=2 in /Users/artemiymirotvortsev/Documents/GitHub/license-plate-detection/.venv/lib/python3.9/site-packages (from requests[socks]->gdown->-r ../requirements.txt (line 8)) (3.4.3)\r\n",
      "Requirement already satisfied: idna<4,>=2.5 in /Users/artemiymirotvortsev/Documents/GitHub/license-plate-detection/.venv/lib/python3.9/site-packages (from requests[socks]->gdown->-r ../requirements.txt (line 8)) (3.10)\r\n",
      "Requirement already satisfied: urllib3<3,>=1.21.1 in /Users/artemiymirotvortsev/Documents/GitHub/license-plate-detection/.venv/lib/python3.9/site-packages (from requests[socks]->gdown->-r ../requirements.txt (line 8)) (2.5.0)\r\n",
      "Requirement already satisfied: certifi>=2017.4.17 in /Users/artemiymirotvortsev/Documents/GitHub/license-plate-detection/.venv/lib/python3.9/site-packages (from requests[socks]->gdown->-r ../requirements.txt (line 8)) (2025.8.3)\r\n",
      "Requirement already satisfied: PySocks!=1.5.7,>=1.5.6 in /Users/artemiymirotvortsev/Documents/GitHub/license-plate-detection/.venv/lib/python3.9/site-packages (from requests[socks]->gdown->-r ../requirements.txt (line 8)) (1.7.1)\r\n"
     ]
    }
   ],
   "execution_count": 1
  },
  {
   "metadata": {
    "ExecuteTime": {
     "end_time": "2025-08-28T07:07:10.053019Z",
     "start_time": "2025-08-28T07:07:09.533769Z"
    }
   },
   "cell_type": "code",
   "source": "!pip install -r ../requirements_yolo.txt",
   "id": "6e182ade8384a708",
   "outputs": [
    {
     "name": "stdout",
     "output_type": "stream",
     "text": [
      "Requirement already satisfied: ultralytics in /Users/artemiymirotvortsev/Documents/GitHub/license-plate-detection/.venv/lib/python3.9/site-packages (from -r ../requirements_yolo.txt (line 1)) (8.3.186)\r\n",
      "Requirement already satisfied: pathlib in /Users/artemiymirotvortsev/Documents/GitHub/license-plate-detection/.venv/lib/python3.9/site-packages (from -r ../requirements_yolo.txt (line 2)) (1.0.1)\r\n",
      "Requirement already satisfied: seaborn in /Users/artemiymirotvortsev/Documents/GitHub/license-plate-detection/.venv/lib/python3.9/site-packages (from -r ../requirements_yolo.txt (line 3)) (0.13.2)\r\n",
      "Requirement already satisfied: numpy>=1.23.0 in /Users/artemiymirotvortsev/Documents/GitHub/license-plate-detection/.venv/lib/python3.9/site-packages (from ultralytics->-r ../requirements_yolo.txt (line 1)) (2.0.2)\r\n",
      "Requirement already satisfied: matplotlib>=3.3.0 in /Users/artemiymirotvortsev/Documents/GitHub/license-plate-detection/.venv/lib/python3.9/site-packages (from ultralytics->-r ../requirements_yolo.txt (line 1)) (3.9.4)\r\n",
      "Requirement already satisfied: opencv-python>=4.6.0 in /Users/artemiymirotvortsev/Documents/GitHub/license-plate-detection/.venv/lib/python3.9/site-packages (from ultralytics->-r ../requirements_yolo.txt (line 1)) (4.12.0.88)\r\n",
      "Requirement already satisfied: pillow>=7.1.2 in /Users/artemiymirotvortsev/Documents/GitHub/license-plate-detection/.venv/lib/python3.9/site-packages (from ultralytics->-r ../requirements_yolo.txt (line 1)) (11.3.0)\r\n",
      "Requirement already satisfied: pyyaml>=5.3.1 in /Users/artemiymirotvortsev/Documents/GitHub/license-plate-detection/.venv/lib/python3.9/site-packages (from ultralytics->-r ../requirements_yolo.txt (line 1)) (6.0.2)\r\n",
      "Requirement already satisfied: requests>=2.23.0 in /Users/artemiymirotvortsev/Documents/GitHub/license-plate-detection/.venv/lib/python3.9/site-packages (from ultralytics->-r ../requirements_yolo.txt (line 1)) (2.32.5)\r\n",
      "Requirement already satisfied: scipy>=1.4.1 in /Users/artemiymirotvortsev/Documents/GitHub/license-plate-detection/.venv/lib/python3.9/site-packages (from ultralytics->-r ../requirements_yolo.txt (line 1)) (1.13.1)\r\n",
      "Requirement already satisfied: torch>=1.8.0 in /Users/artemiymirotvortsev/Documents/GitHub/license-plate-detection/.venv/lib/python3.9/site-packages (from ultralytics->-r ../requirements_yolo.txt (line 1)) (2.5.1)\r\n",
      "Requirement already satisfied: torchvision>=0.9.0 in /Users/artemiymirotvortsev/Documents/GitHub/license-plate-detection/.venv/lib/python3.9/site-packages (from ultralytics->-r ../requirements_yolo.txt (line 1)) (0.20.1)\r\n",
      "Requirement already satisfied: psutil in /Users/artemiymirotvortsev/Documents/GitHub/license-plate-detection/.venv/lib/python3.9/site-packages (from ultralytics->-r ../requirements_yolo.txt (line 1)) (7.0.0)\r\n",
      "Requirement already satisfied: py-cpuinfo in /Users/artemiymirotvortsev/Documents/GitHub/license-plate-detection/.venv/lib/python3.9/site-packages (from ultralytics->-r ../requirements_yolo.txt (line 1)) (9.0.0)\r\n",
      "Requirement already satisfied: pandas>=1.1.4 in /Users/artemiymirotvortsev/Documents/GitHub/license-plate-detection/.venv/lib/python3.9/site-packages (from ultralytics->-r ../requirements_yolo.txt (line 1)) (2.3.2)\r\n",
      "Requirement already satisfied: ultralytics-thop>=2.0.0 in /Users/artemiymirotvortsev/Documents/GitHub/license-plate-detection/.venv/lib/python3.9/site-packages (from ultralytics->-r ../requirements_yolo.txt (line 1)) (2.0.16)\r\n",
      "Requirement already satisfied: contourpy>=1.0.1 in /Users/artemiymirotvortsev/Documents/GitHub/license-plate-detection/.venv/lib/python3.9/site-packages (from matplotlib>=3.3.0->ultralytics->-r ../requirements_yolo.txt (line 1)) (1.3.0)\r\n",
      "Requirement already satisfied: cycler>=0.10 in /Users/artemiymirotvortsev/Documents/GitHub/license-plate-detection/.venv/lib/python3.9/site-packages (from matplotlib>=3.3.0->ultralytics->-r ../requirements_yolo.txt (line 1)) (0.12.1)\r\n",
      "Requirement already satisfied: fonttools>=4.22.0 in /Users/artemiymirotvortsev/Documents/GitHub/license-plate-detection/.venv/lib/python3.9/site-packages (from matplotlib>=3.3.0->ultralytics->-r ../requirements_yolo.txt (line 1)) (4.59.1)\r\n",
      "Requirement already satisfied: kiwisolver>=1.3.1 in /Users/artemiymirotvortsev/Documents/GitHub/license-plate-detection/.venv/lib/python3.9/site-packages (from matplotlib>=3.3.0->ultralytics->-r ../requirements_yolo.txt (line 1)) (1.4.7)\r\n",
      "Requirement already satisfied: packaging>=20.0 in /Users/artemiymirotvortsev/Documents/GitHub/license-plate-detection/.venv/lib/python3.9/site-packages (from matplotlib>=3.3.0->ultralytics->-r ../requirements_yolo.txt (line 1)) (25.0)\r\n",
      "Requirement already satisfied: pyparsing>=2.3.1 in /Users/artemiymirotvortsev/Documents/GitHub/license-plate-detection/.venv/lib/python3.9/site-packages (from matplotlib>=3.3.0->ultralytics->-r ../requirements_yolo.txt (line 1)) (3.2.3)\r\n",
      "Requirement already satisfied: python-dateutil>=2.7 in /Users/artemiymirotvortsev/Documents/GitHub/license-plate-detection/.venv/lib/python3.9/site-packages (from matplotlib>=3.3.0->ultralytics->-r ../requirements_yolo.txt (line 1)) (2.9.0.post0)\r\n",
      "Requirement already satisfied: importlib-resources>=3.2.0 in /Users/artemiymirotvortsev/Documents/GitHub/license-plate-detection/.venv/lib/python3.9/site-packages (from matplotlib>=3.3.0->ultralytics->-r ../requirements_yolo.txt (line 1)) (6.5.2)\r\n",
      "Requirement already satisfied: zipp>=3.1.0 in /Users/artemiymirotvortsev/Documents/GitHub/license-plate-detection/.venv/lib/python3.9/site-packages (from importlib-resources>=3.2.0->matplotlib>=3.3.0->ultralytics->-r ../requirements_yolo.txt (line 1)) (3.23.0)\r\n",
      "Requirement already satisfied: pytz>=2020.1 in /Users/artemiymirotvortsev/Documents/GitHub/license-plate-detection/.venv/lib/python3.9/site-packages (from pandas>=1.1.4->ultralytics->-r ../requirements_yolo.txt (line 1)) (2025.2)\r\n",
      "Requirement already satisfied: tzdata>=2022.7 in /Users/artemiymirotvortsev/Documents/GitHub/license-plate-detection/.venv/lib/python3.9/site-packages (from pandas>=1.1.4->ultralytics->-r ../requirements_yolo.txt (line 1)) (2025.2)\r\n",
      "Requirement already satisfied: six>=1.5 in /Users/artemiymirotvortsev/Documents/GitHub/license-plate-detection/.venv/lib/python3.9/site-packages (from python-dateutil>=2.7->matplotlib>=3.3.0->ultralytics->-r ../requirements_yolo.txt (line 1)) (1.17.0)\r\n",
      "Requirement already satisfied: charset_normalizer<4,>=2 in /Users/artemiymirotvortsev/Documents/GitHub/license-plate-detection/.venv/lib/python3.9/site-packages (from requests>=2.23.0->ultralytics->-r ../requirements_yolo.txt (line 1)) (3.4.3)\r\n",
      "Requirement already satisfied: idna<4,>=2.5 in /Users/artemiymirotvortsev/Documents/GitHub/license-plate-detection/.venv/lib/python3.9/site-packages (from requests>=2.23.0->ultralytics->-r ../requirements_yolo.txt (line 1)) (3.10)\r\n",
      "Requirement already satisfied: urllib3<3,>=1.21.1 in /Users/artemiymirotvortsev/Documents/GitHub/license-plate-detection/.venv/lib/python3.9/site-packages (from requests>=2.23.0->ultralytics->-r ../requirements_yolo.txt (line 1)) (2.5.0)\r\n",
      "Requirement already satisfied: certifi>=2017.4.17 in /Users/artemiymirotvortsev/Documents/GitHub/license-plate-detection/.venv/lib/python3.9/site-packages (from requests>=2.23.0->ultralytics->-r ../requirements_yolo.txt (line 1)) (2025.8.3)\r\n",
      "Requirement already satisfied: filelock in /Users/artemiymirotvortsev/Documents/GitHub/license-plate-detection/.venv/lib/python3.9/site-packages (from torch>=1.8.0->ultralytics->-r ../requirements_yolo.txt (line 1)) (3.19.1)\r\n",
      "Requirement already satisfied: typing-extensions>=4.8.0 in /Users/artemiymirotvortsev/Documents/GitHub/license-plate-detection/.venv/lib/python3.9/site-packages (from torch>=1.8.0->ultralytics->-r ../requirements_yolo.txt (line 1)) (4.15.0)\r\n",
      "Requirement already satisfied: networkx in /Users/artemiymirotvortsev/Documents/GitHub/license-plate-detection/.venv/lib/python3.9/site-packages (from torch>=1.8.0->ultralytics->-r ../requirements_yolo.txt (line 1)) (3.2.1)\r\n",
      "Requirement already satisfied: jinja2 in /Users/artemiymirotvortsev/Documents/GitHub/license-plate-detection/.venv/lib/python3.9/site-packages (from torch>=1.8.0->ultralytics->-r ../requirements_yolo.txt (line 1)) (3.1.6)\r\n",
      "Requirement already satisfied: fsspec in /Users/artemiymirotvortsev/Documents/GitHub/license-plate-detection/.venv/lib/python3.9/site-packages (from torch>=1.8.0->ultralytics->-r ../requirements_yolo.txt (line 1)) (2025.7.0)\r\n",
      "Requirement already satisfied: sympy==1.13.1 in /Users/artemiymirotvortsev/Documents/GitHub/license-plate-detection/.venv/lib/python3.9/site-packages (from torch>=1.8.0->ultralytics->-r ../requirements_yolo.txt (line 1)) (1.13.1)\r\n",
      "Requirement already satisfied: mpmath<1.4,>=1.1.0 in /Users/artemiymirotvortsev/Documents/GitHub/license-plate-detection/.venv/lib/python3.9/site-packages (from sympy==1.13.1->torch>=1.8.0->ultralytics->-r ../requirements_yolo.txt (line 1)) (1.3.0)\r\n",
      "Requirement already satisfied: MarkupSafe>=2.0 in /Users/artemiymirotvortsev/Documents/GitHub/license-plate-detection/.venv/lib/python3.9/site-packages (from jinja2->torch>=1.8.0->ultralytics->-r ../requirements_yolo.txt (line 1)) (3.0.2)\r\n"
     ]
    }
   ],
   "execution_count": 2
  },
  {
   "metadata": {
    "ExecuteTime": {
     "end_time": "2025-08-28T07:07:15.745926Z",
     "start_time": "2025-08-28T07:07:10.058195Z"
    }
   },
   "cell_type": "code",
   "source": [
    "!pip install -r ../requirements_detectron.txt\n",
    "!pip install --no-build-isolation git+https://github.com/facebookresearch/detectron2.git"
   ],
   "id": "afe2f6fb924e35e1",
   "outputs": [
    {
     "name": "stdout",
     "output_type": "stream",
     "text": [
      "Requirement already satisfied: torch==2.5.1 in /Users/artemiymirotvortsev/Documents/GitHub/license-plate-detection/.venv/lib/python3.9/site-packages (from -r ../requirements_detectron.txt (line 1)) (2.5.1)\r\n",
      "Requirement already satisfied: torchvision==0.20.1 in /Users/artemiymirotvortsev/Documents/GitHub/license-plate-detection/.venv/lib/python3.9/site-packages (from -r ../requirements_detectron.txt (line 2)) (0.20.1)\r\n",
      "Requirement already satisfied: torchaudio==2.5.1 in /Users/artemiymirotvortsev/Documents/GitHub/license-plate-detection/.venv/lib/python3.9/site-packages (from -r ../requirements_detectron.txt (line 3)) (2.5.1)\r\n",
      "Requirement already satisfied: wheel in /Users/artemiymirotvortsev/Documents/GitHub/license-plate-detection/.venv/lib/python3.9/site-packages (from -r ../requirements_detectron.txt (line 4)) (0.45.1)\r\n",
      "Requirement already satisfied: setuptools in /Users/artemiymirotvortsev/Documents/GitHub/license-plate-detection/.venv/lib/python3.9/site-packages (from -r ../requirements_detectron.txt (line 5)) (80.9.0)\r\n",
      "Requirement already satisfied: ninja in /Users/artemiymirotvortsev/Documents/GitHub/license-plate-detection/.venv/lib/python3.9/site-packages (from -r ../requirements_detectron.txt (line 6)) (1.13.0)\r\n",
      "Requirement already satisfied: filelock in /Users/artemiymirotvortsev/Documents/GitHub/license-plate-detection/.venv/lib/python3.9/site-packages (from torch==2.5.1->-r ../requirements_detectron.txt (line 1)) (3.19.1)\r\n",
      "Requirement already satisfied: typing-extensions>=4.8.0 in /Users/artemiymirotvortsev/Documents/GitHub/license-plate-detection/.venv/lib/python3.9/site-packages (from torch==2.5.1->-r ../requirements_detectron.txt (line 1)) (4.15.0)\r\n",
      "Requirement already satisfied: networkx in /Users/artemiymirotvortsev/Documents/GitHub/license-plate-detection/.venv/lib/python3.9/site-packages (from torch==2.5.1->-r ../requirements_detectron.txt (line 1)) (3.2.1)\r\n",
      "Requirement already satisfied: jinja2 in /Users/artemiymirotvortsev/Documents/GitHub/license-plate-detection/.venv/lib/python3.9/site-packages (from torch==2.5.1->-r ../requirements_detectron.txt (line 1)) (3.1.6)\r\n",
      "Requirement already satisfied: fsspec in /Users/artemiymirotvortsev/Documents/GitHub/license-plate-detection/.venv/lib/python3.9/site-packages (from torch==2.5.1->-r ../requirements_detectron.txt (line 1)) (2025.7.0)\r\n",
      "Requirement already satisfied: sympy==1.13.1 in /Users/artemiymirotvortsev/Documents/GitHub/license-plate-detection/.venv/lib/python3.9/site-packages (from torch==2.5.1->-r ../requirements_detectron.txt (line 1)) (1.13.1)\r\n",
      "Requirement already satisfied: numpy in /Users/artemiymirotvortsev/Documents/GitHub/license-plate-detection/.venv/lib/python3.9/site-packages (from torchvision==0.20.1->-r ../requirements_detectron.txt (line 2)) (2.0.2)\r\n",
      "Requirement already satisfied: pillow!=8.3.*,>=5.3.0 in /Users/artemiymirotvortsev/Documents/GitHub/license-plate-detection/.venv/lib/python3.9/site-packages (from torchvision==0.20.1->-r ../requirements_detectron.txt (line 2)) (11.3.0)\r\n",
      "Requirement already satisfied: mpmath<1.4,>=1.1.0 in /Users/artemiymirotvortsev/Documents/GitHub/license-plate-detection/.venv/lib/python3.9/site-packages (from sympy==1.13.1->torch==2.5.1->-r ../requirements_detectron.txt (line 1)) (1.3.0)\r\n",
      "Requirement already satisfied: MarkupSafe>=2.0 in /Users/artemiymirotvortsev/Documents/GitHub/license-plate-detection/.venv/lib/python3.9/site-packages (from jinja2->torch==2.5.1->-r ../requirements_detectron.txt (line 1)) (3.0.2)\r\n",
      "Collecting git+https://github.com/facebookresearch/detectron2.git\r\n",
      "  Cloning https://github.com/facebookresearch/detectron2.git to /private/var/folders/yw/2ll7y_yn78lgykdzrd8txq440000gn/T/pip-req-build-xjo32ebo\r\n",
      "  Running command git clone --filter=blob:none --quiet https://github.com/facebookresearch/detectron2.git /private/var/folders/yw/2ll7y_yn78lgykdzrd8txq440000gn/T/pip-req-build-xjo32ebo\r\n",
      "  Resolved https://github.com/facebookresearch/detectron2.git to commit a1ce2f956a1d2212ad672e3c47d53405c2fe4312\r\n",
      "  Preparing metadata (setup.py) ... \u001B[?25ldone\r\n",
      "\u001B[?25hRequirement already satisfied: Pillow>=7.1 in /Users/artemiymirotvortsev/Documents/GitHub/license-plate-detection/.venv/lib/python3.9/site-packages (from detectron2==0.6) (11.3.0)\r\n",
      "Requirement already satisfied: matplotlib in /Users/artemiymirotvortsev/Documents/GitHub/license-plate-detection/.venv/lib/python3.9/site-packages (from detectron2==0.6) (3.9.4)\r\n",
      "Requirement already satisfied: pycocotools>=2.0.2 in /Users/artemiymirotvortsev/Documents/GitHub/license-plate-detection/.venv/lib/python3.9/site-packages (from detectron2==0.6) (2.0.10)\r\n",
      "Requirement already satisfied: termcolor>=1.1 in /Users/artemiymirotvortsev/Documents/GitHub/license-plate-detection/.venv/lib/python3.9/site-packages (from detectron2==0.6) (3.1.0)\r\n",
      "Requirement already satisfied: yacs>=0.1.8 in /Users/artemiymirotvortsev/Documents/GitHub/license-plate-detection/.venv/lib/python3.9/site-packages (from detectron2==0.6) (0.1.8)\r\n",
      "Requirement already satisfied: tabulate in /Users/artemiymirotvortsev/Documents/GitHub/license-plate-detection/.venv/lib/python3.9/site-packages (from detectron2==0.6) (0.9.0)\r\n",
      "Requirement already satisfied: cloudpickle in /Users/artemiymirotvortsev/Documents/GitHub/license-plate-detection/.venv/lib/python3.9/site-packages (from detectron2==0.6) (3.1.1)\r\n",
      "Requirement already satisfied: tqdm>4.29.0 in /Users/artemiymirotvortsev/Documents/GitHub/license-plate-detection/.venv/lib/python3.9/site-packages (from detectron2==0.6) (4.67.1)\r\n",
      "Requirement already satisfied: tensorboard in /Users/artemiymirotvortsev/Documents/GitHub/license-plate-detection/.venv/lib/python3.9/site-packages (from detectron2==0.6) (2.20.0)\r\n",
      "Requirement already satisfied: fvcore<0.1.6,>=0.1.5 in /Users/artemiymirotvortsev/Documents/GitHub/license-plate-detection/.venv/lib/python3.9/site-packages (from detectron2==0.6) (0.1.5.post20221221)\r\n",
      "Requirement already satisfied: iopath<0.1.10,>=0.1.7 in /Users/artemiymirotvortsev/Documents/GitHub/license-plate-detection/.venv/lib/python3.9/site-packages (from detectron2==0.6) (0.1.9)\r\n",
      "Requirement already satisfied: omegaconf<2.4,>=2.1 in /Users/artemiymirotvortsev/Documents/GitHub/license-plate-detection/.venv/lib/python3.9/site-packages (from detectron2==0.6) (2.3.0)\r\n",
      "Requirement already satisfied: hydra-core>=1.1 in /Users/artemiymirotvortsev/Documents/GitHub/license-plate-detection/.venv/lib/python3.9/site-packages (from detectron2==0.6) (1.3.2)\r\n",
      "Requirement already satisfied: black in /Users/artemiymirotvortsev/Documents/GitHub/license-plate-detection/.venv/lib/python3.9/site-packages (from detectron2==0.6) (25.1.0)\r\n",
      "Requirement already satisfied: packaging in /Users/artemiymirotvortsev/Documents/GitHub/license-plate-detection/.venv/lib/python3.9/site-packages (from detectron2==0.6) (25.0)\r\n",
      "Requirement already satisfied: numpy in /Users/artemiymirotvortsev/Documents/GitHub/license-plate-detection/.venv/lib/python3.9/site-packages (from fvcore<0.1.6,>=0.1.5->detectron2==0.6) (2.0.2)\r\n",
      "Requirement already satisfied: pyyaml>=5.1 in /Users/artemiymirotvortsev/Documents/GitHub/license-plate-detection/.venv/lib/python3.9/site-packages (from fvcore<0.1.6,>=0.1.5->detectron2==0.6) (6.0.2)\r\n",
      "Requirement already satisfied: portalocker in /Users/artemiymirotvortsev/Documents/GitHub/license-plate-detection/.venv/lib/python3.9/site-packages (from iopath<0.1.10,>=0.1.7->detectron2==0.6) (3.2.0)\r\n",
      "Requirement already satisfied: antlr4-python3-runtime==4.9.* in /Users/artemiymirotvortsev/Documents/GitHub/license-plate-detection/.venv/lib/python3.9/site-packages (from omegaconf<2.4,>=2.1->detectron2==0.6) (4.9.3)\r\n",
      "Requirement already satisfied: click>=8.0.0 in /Users/artemiymirotvortsev/Documents/GitHub/license-plate-detection/.venv/lib/python3.9/site-packages (from black->detectron2==0.6) (8.1.8)\r\n",
      "Requirement already satisfied: mypy-extensions>=0.4.3 in /Users/artemiymirotvortsev/Documents/GitHub/license-plate-detection/.venv/lib/python3.9/site-packages (from black->detectron2==0.6) (1.1.0)\r\n",
      "Requirement already satisfied: pathspec>=0.9.0 in /Users/artemiymirotvortsev/Documents/GitHub/license-plate-detection/.venv/lib/python3.9/site-packages (from black->detectron2==0.6) (0.12.1)\r\n",
      "Requirement already satisfied: platformdirs>=2 in /Users/artemiymirotvortsev/Documents/GitHub/license-plate-detection/.venv/lib/python3.9/site-packages (from black->detectron2==0.6) (4.4.0)\r\n",
      "Requirement already satisfied: tomli>=1.1.0 in /Users/artemiymirotvortsev/Documents/GitHub/license-plate-detection/.venv/lib/python3.9/site-packages (from black->detectron2==0.6) (2.2.1)\r\n",
      "Requirement already satisfied: typing-extensions>=4.0.1 in /Users/artemiymirotvortsev/Documents/GitHub/license-plate-detection/.venv/lib/python3.9/site-packages (from black->detectron2==0.6) (4.15.0)\r\n",
      "Requirement already satisfied: contourpy>=1.0.1 in /Users/artemiymirotvortsev/Documents/GitHub/license-plate-detection/.venv/lib/python3.9/site-packages (from matplotlib->detectron2==0.6) (1.3.0)\r\n",
      "Requirement already satisfied: cycler>=0.10 in /Users/artemiymirotvortsev/Documents/GitHub/license-plate-detection/.venv/lib/python3.9/site-packages (from matplotlib->detectron2==0.6) (0.12.1)\r\n",
      "Requirement already satisfied: fonttools>=4.22.0 in /Users/artemiymirotvortsev/Documents/GitHub/license-plate-detection/.venv/lib/python3.9/site-packages (from matplotlib->detectron2==0.6) (4.59.1)\r\n",
      "Requirement already satisfied: kiwisolver>=1.3.1 in /Users/artemiymirotvortsev/Documents/GitHub/license-plate-detection/.venv/lib/python3.9/site-packages (from matplotlib->detectron2==0.6) (1.4.7)\r\n",
      "Requirement already satisfied: pyparsing>=2.3.1 in /Users/artemiymirotvortsev/Documents/GitHub/license-plate-detection/.venv/lib/python3.9/site-packages (from matplotlib->detectron2==0.6) (3.2.3)\r\n",
      "Requirement already satisfied: python-dateutil>=2.7 in /Users/artemiymirotvortsev/Documents/GitHub/license-plate-detection/.venv/lib/python3.9/site-packages (from matplotlib->detectron2==0.6) (2.9.0.post0)\r\n",
      "Requirement already satisfied: importlib-resources>=3.2.0 in /Users/artemiymirotvortsev/Documents/GitHub/license-plate-detection/.venv/lib/python3.9/site-packages (from matplotlib->detectron2==0.6) (6.5.2)\r\n",
      "Requirement already satisfied: zipp>=3.1.0 in /Users/artemiymirotvortsev/Documents/GitHub/license-plate-detection/.venv/lib/python3.9/site-packages (from importlib-resources>=3.2.0->matplotlib->detectron2==0.6) (3.23.0)\r\n",
      "Requirement already satisfied: six>=1.5 in /Users/artemiymirotvortsev/Documents/GitHub/license-plate-detection/.venv/lib/python3.9/site-packages (from python-dateutil>=2.7->matplotlib->detectron2==0.6) (1.17.0)\r\n",
      "Requirement already satisfied: absl-py>=0.4 in /Users/artemiymirotvortsev/Documents/GitHub/license-plate-detection/.venv/lib/python3.9/site-packages (from tensorboard->detectron2==0.6) (2.3.1)\r\n",
      "Requirement already satisfied: grpcio>=1.48.2 in /Users/artemiymirotvortsev/Documents/GitHub/license-plate-detection/.venv/lib/python3.9/site-packages (from tensorboard->detectron2==0.6) (1.74.0)\r\n",
      "Requirement already satisfied: markdown>=2.6.8 in /Users/artemiymirotvortsev/Documents/GitHub/license-plate-detection/.venv/lib/python3.9/site-packages (from tensorboard->detectron2==0.6) (3.8.2)\r\n",
      "Requirement already satisfied: protobuf!=4.24.0,>=3.19.6 in /Users/artemiymirotvortsev/Documents/GitHub/license-plate-detection/.venv/lib/python3.9/site-packages (from tensorboard->detectron2==0.6) (6.32.0)\r\n",
      "Requirement already satisfied: setuptools>=41.0.0 in /Users/artemiymirotvortsev/Documents/GitHub/license-plate-detection/.venv/lib/python3.9/site-packages (from tensorboard->detectron2==0.6) (80.9.0)\r\n",
      "Requirement already satisfied: tensorboard-data-server<0.8.0,>=0.7.0 in /Users/artemiymirotvortsev/Documents/GitHub/license-plate-detection/.venv/lib/python3.9/site-packages (from tensorboard->detectron2==0.6) (0.7.2)\r\n",
      "Requirement already satisfied: werkzeug>=1.0.1 in /Users/artemiymirotvortsev/Documents/GitHub/license-plate-detection/.venv/lib/python3.9/site-packages (from tensorboard->detectron2==0.6) (3.1.3)\r\n",
      "Requirement already satisfied: importlib-metadata>=4.4 in /Users/artemiymirotvortsev/Documents/GitHub/license-plate-detection/.venv/lib/python3.9/site-packages (from markdown>=2.6.8->tensorboard->detectron2==0.6) (8.7.0)\r\n",
      "Requirement already satisfied: MarkupSafe>=2.1.1 in /Users/artemiymirotvortsev/Documents/GitHub/license-plate-detection/.venv/lib/python3.9/site-packages (from werkzeug>=1.0.1->tensorboard->detectron2==0.6) (3.0.2)\r\n"
     ]
    }
   ],
   "execution_count": 3
  },
  {
   "metadata": {
    "ExecuteTime": {
     "end_time": "2025-08-28T07:20:33.784782Z",
     "start_time": "2025-08-28T07:20:33.781578Z"
    }
   },
   "cell_type": "code",
   "source": "from license_plate_detection.config import *",
   "id": "6aa34324e83c2a98",
   "outputs": [],
   "execution_count": 2
  },
  {
   "metadata": {},
   "cell_type": "code",
   "outputs": [],
   "execution_count": null,
   "source": [
    "@title Колаб\n",
    "\n",
    "# from google.colab import drive\n",
    "# drive.mount('/content/drive')\n",
    "\n",
    "%cd /content\n",
    "!rm -rf /content/license-plate-detection\n",
    "!git clone https://github.com/ArconRM/license-plate-detection\n",
    "%cd /content/license-plate-detection"
   ],
   "id": "1002c03cdcaf7493"
  },
  {
   "metadata": {},
   "cell_type": "markdown",
   "source": "# YOLO",
   "id": "5cea8e32dbbe0770"
  },
  {
   "metadata": {
    "ExecuteTime": {
     "end_time": "2025-08-28T07:07:45.722375Z",
     "start_time": "2025-08-28T07:07:43.425488Z"
    }
   },
   "cell_type": "code",
   "source": "from license_plate_detection.predict import predict_yolo",
   "id": "5f33bca75a7c690e",
   "outputs": [
    {
     "name": "stderr",
     "output_type": "stream",
     "text": [
      "/Users/artemiymirotvortsev/Documents/GitHub/license-plate-detection/.venv/lib/python3.9/site-packages/detectron2/model_zoo/model_zoo.py:4: UserWarning: pkg_resources is deprecated as an API. See https://setuptools.pypa.io/en/latest/pkg_resources.html. The pkg_resources package is slated for removal as early as 2025-11-30. Refrain from using this package or pin to Setuptools<81.\n",
      "  import pkg_resources\n"
     ]
    }
   ],
   "execution_count": 5
  },
  {
   "metadata": {
    "ExecuteTime": {
     "end_time": "2025-08-28T07:09:28.678551Z",
     "start_time": "2025-08-28T07:09:25.572525Z"
    }
   },
   "cell_type": "code",
   "source": [
    "results = predict_yolo(\n",
    "    model_path=\"../models/YOLO v5s/best_20.pt\",\n",
    "    source=\"../data/test\",\n",
    "    batch_size=60,\n",
    "    save_name=\"yolo5s_tests\",\n",
    "    device=\"mps\"\n",
    ")"
   ],
   "id": "d76128e97db75e89",
   "outputs": [
    {
     "name": "stderr",
     "output_type": "stream",
     "text": [
      "/Users/artemiymirotvortsev/Documents/GitHub/license-plate-detection/.venv/lib/python3.9/site-packages/urllib3/__init__.py:35: NotOpenSSLWarning: urllib3 v2 only supports OpenSSL 1.1.1+, currently the 'ssl' module is compiled with 'LibreSSL 2.8.3'. See: https://github.com/urllib3/urllib3/issues/3020\n",
      "  warnings.warn(\n"
     ]
    },
    {
     "name": "stdout",
     "output_type": "stream",
     "text": [
      "\n",
      "image 1/41 /Users/artemiymirotvortsev/Documents/GitHub/license-plate-detection/notebooks/../data/test/2BD2A904-4799-4EB9-A493-6AD98DEE7483_1_105_c.jpeg: 768x768 1 license_plate, 24.2ms\n",
      "image 2/41 /Users/artemiymirotvortsev/Documents/GitHub/license-plate-detection/notebooks/../data/test/33528D0A-944E-46D0-A078-B9B9FACC5CE9_1_105_c.jpeg: 768x768 1 license_plate, 24.2ms\n",
      "image 3/41 /Users/artemiymirotvortsev/Documents/GitHub/license-plate-detection/notebooks/../data/test/3fa3e372-26b7-4f85-b3e3-5d9c41cf1023.jpeg: 768x768 1 license_plate, 24.2ms\n",
      "image 4/41 /Users/artemiymirotvortsev/Documents/GitHub/license-plate-detection/notebooks/../data/test/AC90ED73-F7FA-435C-A99A-B10A766208FB_1_105_c.jpeg: 768x768 1 license_plate, 24.2ms\n",
      "image 5/41 /Users/artemiymirotvortsev/Documents/GitHub/license-plate-detection/notebooks/../data/test/EB5C56D5-CD34-454B-89EA-CDE96BF09AC5_1_105_c.jpeg: 768x768 1 license_plate, 24.2ms\n",
      "image 6/41 /Users/artemiymirotvortsev/Documents/GitHub/license-plate-detection/notebooks/../data/test/F7D391F9-2E7F-49B8-AB83-5BC2E27722C0_1_105_c.jpeg: 768x768 1 license_plate, 24.2ms\n",
      "image 7/41 /Users/artemiymirotvortsev/Documents/GitHub/license-plate-detection/notebooks/../data/test/IMG_0379.jpeg: 768x768 1 license_plate, 24.2ms\n",
      "image 8/41 /Users/artemiymirotvortsev/Documents/GitHub/license-plate-detection/notebooks/../data/test/IMG_0636.jpeg: 768x768 2 license_plates, 24.2ms\n",
      "image 9/41 /Users/artemiymirotvortsev/Documents/GitHub/license-plate-detection/notebooks/../data/test/IMG_0686.jpeg: 768x768 1 license_plate, 24.2ms\n",
      "image 10/41 /Users/artemiymirotvortsev/Documents/GitHub/license-plate-detection/notebooks/../data/test/IMG_0777.jpeg: 768x768 1 license_plate, 24.2ms\n",
      "image 11/41 /Users/artemiymirotvortsev/Documents/GitHub/license-plate-detection/notebooks/../data/test/IMG_0972.jpeg: 768x768 1 license_plate, 24.2ms\n",
      "image 12/41 /Users/artemiymirotvortsev/Documents/GitHub/license-plate-detection/notebooks/../data/test/IMG_1489.jpeg: 768x768 3 license_plates, 24.2ms\n",
      "image 13/41 /Users/artemiymirotvortsev/Documents/GitHub/license-plate-detection/notebooks/../data/test/IMG_1574.jpeg: 768x768 2 license_plates, 24.2ms\n",
      "image 14/41 /Users/artemiymirotvortsev/Documents/GitHub/license-plate-detection/notebooks/../data/test/IMG_1864.jpeg: 768x768 (no detections), 24.2ms\n",
      "image 15/41 /Users/artemiymirotvortsev/Documents/GitHub/license-plate-detection/notebooks/../data/test/IMG_1888.jpeg: 768x768 1 license_plate, 24.2ms\n",
      "image 16/41 /Users/artemiymirotvortsev/Documents/GitHub/license-plate-detection/notebooks/../data/test/IMG_2991.jpeg: 768x768 2 license_plates, 24.2ms\n",
      "image 17/41 /Users/artemiymirotvortsev/Documents/GitHub/license-plate-detection/notebooks/../data/test/IMG_3044.jpeg: 768x768 3 license_plates, 24.2ms\n",
      "image 18/41 /Users/artemiymirotvortsev/Documents/GitHub/license-plate-detection/notebooks/../data/test/IMG_3097.jpeg: 768x768 1 license_plate, 24.2ms\n",
      "image 19/41 /Users/artemiymirotvortsev/Documents/GitHub/license-plate-detection/notebooks/../data/test/IMG_3099.jpeg: 768x768 1 license_plate, 24.2ms\n",
      "image 20/41 /Users/artemiymirotvortsev/Documents/GitHub/license-plate-detection/notebooks/../data/test/IMG_4822.jpeg: 768x768 (no detections), 24.2ms\n",
      "image 21/41 /Users/artemiymirotvortsev/Documents/GitHub/license-plate-detection/notebooks/../data/test/IMG_4990.jpeg: 768x768 1 license_plate, 24.2ms\n",
      "image 22/41 /Users/artemiymirotvortsev/Documents/GitHub/license-plate-detection/notebooks/../data/test/IMG_5301.jpeg: 768x768 1 license_plate, 24.2ms\n",
      "image 23/41 /Users/artemiymirotvortsev/Documents/GitHub/license-plate-detection/notebooks/../data/test/IMG_5522.jpeg: 768x768 1 license_plate, 24.2ms\n",
      "image 24/41 /Users/artemiymirotvortsev/Documents/GitHub/license-plate-detection/notebooks/../data/test/IMG_5537.jpeg: 768x768 1 license_plate, 24.2ms\n",
      "image 25/41 /Users/artemiymirotvortsev/Documents/GitHub/license-plate-detection/notebooks/../data/test/IMG_5643.jpeg: 768x768 1 license_plate, 24.2ms\n",
      "image 26/41 /Users/artemiymirotvortsev/Documents/GitHub/license-plate-detection/notebooks/../data/test/IMG_5725.jpeg: 768x768 1 license_plate, 24.2ms\n",
      "image 27/41 /Users/artemiymirotvortsev/Documents/GitHub/license-plate-detection/notebooks/../data/test/IMG_5915.jpeg: 768x768 1 license_plate, 24.2ms\n",
      "image 28/41 /Users/artemiymirotvortsev/Documents/GitHub/license-plate-detection/notebooks/../data/test/IMG_6384.jpeg: 768x768 (no detections), 24.2ms\n",
      "image 29/41 /Users/artemiymirotvortsev/Documents/GitHub/license-plate-detection/notebooks/../data/test/IMG_6400.jpeg: 768x768 1 license_plate, 24.2ms\n",
      "image 30/41 /Users/artemiymirotvortsev/Documents/GitHub/license-plate-detection/notebooks/../data/test/IMG_6775.jpeg: 768x768 (no detections), 24.2ms\n",
      "image 31/41 /Users/artemiymirotvortsev/Documents/GitHub/license-plate-detection/notebooks/../data/test/IMG_6905.jpeg: 768x768 1 license_plate, 24.2ms\n",
      "image 32/41 /Users/artemiymirotvortsev/Documents/GitHub/license-plate-detection/notebooks/../data/test/IMG_8851.jpeg: 768x768 6 license_plates, 24.2ms\n",
      "image 33/41 /Users/artemiymirotvortsev/Documents/GitHub/license-plate-detection/notebooks/../data/test/IMG_8853.jpeg: 768x768 2 license_plates, 24.2ms\n",
      "image 34/41 /Users/artemiymirotvortsev/Documents/GitHub/license-plate-detection/notebooks/../data/test/IMG_8889.jpeg: 768x768 1 license_plate, 24.2ms\n",
      "image 35/41 /Users/artemiymirotvortsev/Documents/GitHub/license-plate-detection/notebooks/../data/test/IMG_9052.jpeg: 768x768 1 license_plate, 24.2ms\n",
      "image 36/41 /Users/artemiymirotvortsev/Documents/GitHub/license-plate-detection/notebooks/../data/test/IMG_9391.jpeg: 768x768 1 license_plate, 24.2ms\n",
      "image 37/41 /Users/artemiymirotvortsev/Documents/GitHub/license-plate-detection/notebooks/../data/test/IMG_9568.jpeg: 768x768 2 license_plates, 24.2ms\n",
      "image 38/41 /Users/artemiymirotvortsev/Documents/GitHub/license-plate-detection/notebooks/../data/test/IMG_9603.jpeg: 768x768 3 license_plates, 24.2ms\n",
      "image 39/41 /Users/artemiymirotvortsev/Documents/GitHub/license-plate-detection/notebooks/../data/test/IMG_9609.jpeg: 768x768 2 license_plates, 24.2ms\n",
      "image 40/41 /Users/artemiymirotvortsev/Documents/GitHub/license-plate-detection/notebooks/../data/test/IMG_9701.jpeg: 768x768 1 license_plate, 24.2ms\n",
      "image 41/41 /Users/artemiymirotvortsev/Documents/GitHub/license-plate-detection/notebooks/../data/test/Изображение 8.jpeg: 768x768 1 license_plate, 24.2ms\n",
      "Speed: 5.5ms preprocess, 24.2ms inference, 13.4ms postprocess per image at shape (41, 3, 768, 768)\n",
      "Results saved to \u001B[1m/Users/artemiymirotvortsev/Documents/GitHub/license-plate-detection/runs/detect/yolo5s_tests\u001B[0m\n"
     ]
    }
   ],
   "execution_count": 11
  },
  {
   "metadata": {
    "ExecuteTime": {
     "end_time": "2025-08-28T07:09:44.629136Z",
     "start_time": "2025-08-28T07:09:41.793044Z"
    }
   },
   "cell_type": "code",
   "source": [
    "results = predict_yolo(\n",
    "    model_path=\"../models/YOLO v8s/best_20.pt\",\n",
    "    source=\"../data/test\",\n",
    "    batch_size=60,\n",
    "    save_name=\"yolo8s_tests\",\n",
    "    device=\"mps\"\n",
    ")"
   ],
   "id": "bbac452c7fc910c9",
   "outputs": [
    {
     "name": "stdout",
     "output_type": "stream",
     "text": [
      "\n",
      "image 1/41 /Users/artemiymirotvortsev/Documents/GitHub/license-plate-detection/notebooks/../data/test/2BD2A904-4799-4EB9-A493-6AD98DEE7483_1_105_c.jpeg: 768x768 1 license_plate, 32.4ms\n",
      "image 2/41 /Users/artemiymirotvortsev/Documents/GitHub/license-plate-detection/notebooks/../data/test/33528D0A-944E-46D0-A078-B9B9FACC5CE9_1_105_c.jpeg: 768x768 1 license_plate, 32.4ms\n",
      "image 3/41 /Users/artemiymirotvortsev/Documents/GitHub/license-plate-detection/notebooks/../data/test/3fa3e372-26b7-4f85-b3e3-5d9c41cf1023.jpeg: 768x768 1 license_plate, 32.4ms\n",
      "image 4/41 /Users/artemiymirotvortsev/Documents/GitHub/license-plate-detection/notebooks/../data/test/AC90ED73-F7FA-435C-A99A-B10A766208FB_1_105_c.jpeg: 768x768 1 license_plate, 32.4ms\n",
      "image 5/41 /Users/artemiymirotvortsev/Documents/GitHub/license-plate-detection/notebooks/../data/test/EB5C56D5-CD34-454B-89EA-CDE96BF09AC5_1_105_c.jpeg: 768x768 1 license_plate, 32.4ms\n",
      "image 6/41 /Users/artemiymirotvortsev/Documents/GitHub/license-plate-detection/notebooks/../data/test/F7D391F9-2E7F-49B8-AB83-5BC2E27722C0_1_105_c.jpeg: 768x768 1 license_plate, 32.4ms\n",
      "image 7/41 /Users/artemiymirotvortsev/Documents/GitHub/license-plate-detection/notebooks/../data/test/IMG_0379.jpeg: 768x768 2 license_plates, 32.4ms\n",
      "image 8/41 /Users/artemiymirotvortsev/Documents/GitHub/license-plate-detection/notebooks/../data/test/IMG_0636.jpeg: 768x768 2 license_plates, 32.4ms\n",
      "image 9/41 /Users/artemiymirotvortsev/Documents/GitHub/license-plate-detection/notebooks/../data/test/IMG_0686.jpeg: 768x768 1 license_plate, 32.4ms\n",
      "image 10/41 /Users/artemiymirotvortsev/Documents/GitHub/license-plate-detection/notebooks/../data/test/IMG_0777.jpeg: 768x768 1 license_plate, 32.4ms\n",
      "image 11/41 /Users/artemiymirotvortsev/Documents/GitHub/license-plate-detection/notebooks/../data/test/IMG_0972.jpeg: 768x768 1 license_plate, 32.4ms\n",
      "image 12/41 /Users/artemiymirotvortsev/Documents/GitHub/license-plate-detection/notebooks/../data/test/IMG_1489.jpeg: 768x768 3 license_plates, 32.4ms\n",
      "image 13/41 /Users/artemiymirotvortsev/Documents/GitHub/license-plate-detection/notebooks/../data/test/IMG_1574.jpeg: 768x768 2 license_plates, 32.4ms\n",
      "image 14/41 /Users/artemiymirotvortsev/Documents/GitHub/license-plate-detection/notebooks/../data/test/IMG_1864.jpeg: 768x768 (no detections), 32.4ms\n",
      "image 15/41 /Users/artemiymirotvortsev/Documents/GitHub/license-plate-detection/notebooks/../data/test/IMG_1888.jpeg: 768x768 2 license_plates, 32.4ms\n",
      "image 16/41 /Users/artemiymirotvortsev/Documents/GitHub/license-plate-detection/notebooks/../data/test/IMG_2991.jpeg: 768x768 2 license_plates, 32.4ms\n",
      "image 17/41 /Users/artemiymirotvortsev/Documents/GitHub/license-plate-detection/notebooks/../data/test/IMG_3044.jpeg: 768x768 3 license_plates, 32.4ms\n",
      "image 18/41 /Users/artemiymirotvortsev/Documents/GitHub/license-plate-detection/notebooks/../data/test/IMG_3097.jpeg: 768x768 1 license_plate, 32.4ms\n",
      "image 19/41 /Users/artemiymirotvortsev/Documents/GitHub/license-plate-detection/notebooks/../data/test/IMG_3099.jpeg: 768x768 1 license_plate, 32.4ms\n",
      "image 20/41 /Users/artemiymirotvortsev/Documents/GitHub/license-plate-detection/notebooks/../data/test/IMG_4822.jpeg: 768x768 1 license_plate, 32.4ms\n",
      "image 21/41 /Users/artemiymirotvortsev/Documents/GitHub/license-plate-detection/notebooks/../data/test/IMG_4990.jpeg: 768x768 1 license_plate, 32.4ms\n",
      "image 22/41 /Users/artemiymirotvortsev/Documents/GitHub/license-plate-detection/notebooks/../data/test/IMG_5301.jpeg: 768x768 1 license_plate, 32.4ms\n",
      "image 23/41 /Users/artemiymirotvortsev/Documents/GitHub/license-plate-detection/notebooks/../data/test/IMG_5522.jpeg: 768x768 1 license_plate, 32.4ms\n",
      "image 24/41 /Users/artemiymirotvortsev/Documents/GitHub/license-plate-detection/notebooks/../data/test/IMG_5537.jpeg: 768x768 1 license_plate, 32.4ms\n",
      "image 25/41 /Users/artemiymirotvortsev/Documents/GitHub/license-plate-detection/notebooks/../data/test/IMG_5643.jpeg: 768x768 1 license_plate, 32.4ms\n",
      "image 26/41 /Users/artemiymirotvortsev/Documents/GitHub/license-plate-detection/notebooks/../data/test/IMG_5725.jpeg: 768x768 1 license_plate, 32.4ms\n",
      "image 27/41 /Users/artemiymirotvortsev/Documents/GitHub/license-plate-detection/notebooks/../data/test/IMG_5915.jpeg: 768x768 2 license_plates, 32.4ms\n",
      "image 28/41 /Users/artemiymirotvortsev/Documents/GitHub/license-plate-detection/notebooks/../data/test/IMG_6384.jpeg: 768x768 (no detections), 32.4ms\n",
      "image 29/41 /Users/artemiymirotvortsev/Documents/GitHub/license-plate-detection/notebooks/../data/test/IMG_6400.jpeg: 768x768 1 license_plate, 32.4ms\n",
      "image 30/41 /Users/artemiymirotvortsev/Documents/GitHub/license-plate-detection/notebooks/../data/test/IMG_6775.jpeg: 768x768 (no detections), 32.4ms\n",
      "image 31/41 /Users/artemiymirotvortsev/Documents/GitHub/license-plate-detection/notebooks/../data/test/IMG_6905.jpeg: 768x768 1 license_plate, 32.4ms\n",
      "image 32/41 /Users/artemiymirotvortsev/Documents/GitHub/license-plate-detection/notebooks/../data/test/IMG_8851.jpeg: 768x768 4 license_plates, 32.4ms\n",
      "image 33/41 /Users/artemiymirotvortsev/Documents/GitHub/license-plate-detection/notebooks/../data/test/IMG_8853.jpeg: 768x768 2 license_plates, 32.4ms\n",
      "image 34/41 /Users/artemiymirotvortsev/Documents/GitHub/license-plate-detection/notebooks/../data/test/IMG_8889.jpeg: 768x768 1 license_plate, 32.4ms\n",
      "image 35/41 /Users/artemiymirotvortsev/Documents/GitHub/license-plate-detection/notebooks/../data/test/IMG_9052.jpeg: 768x768 1 license_plate, 32.4ms\n",
      "image 36/41 /Users/artemiymirotvortsev/Documents/GitHub/license-plate-detection/notebooks/../data/test/IMG_9391.jpeg: 768x768 1 license_plate, 32.4ms\n",
      "image 37/41 /Users/artemiymirotvortsev/Documents/GitHub/license-plate-detection/notebooks/../data/test/IMG_9568.jpeg: 768x768 2 license_plates, 32.4ms\n",
      "image 38/41 /Users/artemiymirotvortsev/Documents/GitHub/license-plate-detection/notebooks/../data/test/IMG_9603.jpeg: 768x768 3 license_plates, 32.4ms\n",
      "image 39/41 /Users/artemiymirotvortsev/Documents/GitHub/license-plate-detection/notebooks/../data/test/IMG_9609.jpeg: 768x768 2 license_plates, 32.4ms\n",
      "image 40/41 /Users/artemiymirotvortsev/Documents/GitHub/license-plate-detection/notebooks/../data/test/IMG_9701.jpeg: 768x768 1 license_plate, 32.4ms\n",
      "image 41/41 /Users/artemiymirotvortsev/Documents/GitHub/license-plate-detection/notebooks/../data/test/Изображение 8.jpeg: 768x768 1 license_plate, 32.4ms\n",
      "Speed: 2.6ms preprocess, 32.4ms inference, 6.7ms postprocess per image at shape (41, 3, 768, 768)\n",
      "Results saved to \u001B[1m/Users/artemiymirotvortsev/Documents/GitHub/license-plate-detection/runs/detect/yolo8s_tests\u001B[0m\n"
     ]
    }
   ],
   "execution_count": 12
  },
  {
   "metadata": {
    "ExecuteTime": {
     "end_time": "2025-08-28T07:09:52.320891Z",
     "start_time": "2025-08-28T07:09:49.546097Z"
    }
   },
   "cell_type": "code",
   "source": [
    "results = predict_yolo(\n",
    "    model_path=\"../models/YOLO v11s/best_20.pt\",\n",
    "    source=\"../data/test\",\n",
    "    batch_size=60,\n",
    "    save_name=\"yolo11s_tests\",\n",
    "    device=\"mps\"\n",
    ")"
   ],
   "id": "a09c7a81fc12af0b",
   "outputs": [
    {
     "name": "stdout",
     "output_type": "stream",
     "text": [
      "\n",
      "image 1/41 /Users/artemiymirotvortsev/Documents/GitHub/license-plate-detection/notebooks/../data/test/2BD2A904-4799-4EB9-A493-6AD98DEE7483_1_105_c.jpeg: 768x768 1 license_plate, 28.7ms\n",
      "image 2/41 /Users/artemiymirotvortsev/Documents/GitHub/license-plate-detection/notebooks/../data/test/33528D0A-944E-46D0-A078-B9B9FACC5CE9_1_105_c.jpeg: 768x768 1 license_plate, 28.7ms\n",
      "image 3/41 /Users/artemiymirotvortsev/Documents/GitHub/license-plate-detection/notebooks/../data/test/3fa3e372-26b7-4f85-b3e3-5d9c41cf1023.jpeg: 768x768 1 license_plate, 28.7ms\n",
      "image 4/41 /Users/artemiymirotvortsev/Documents/GitHub/license-plate-detection/notebooks/../data/test/AC90ED73-F7FA-435C-A99A-B10A766208FB_1_105_c.jpeg: 768x768 1 license_plate, 28.7ms\n",
      "image 5/41 /Users/artemiymirotvortsev/Documents/GitHub/license-plate-detection/notebooks/../data/test/EB5C56D5-CD34-454B-89EA-CDE96BF09AC5_1_105_c.jpeg: 768x768 1 license_plate, 28.7ms\n",
      "image 6/41 /Users/artemiymirotvortsev/Documents/GitHub/license-plate-detection/notebooks/../data/test/F7D391F9-2E7F-49B8-AB83-5BC2E27722C0_1_105_c.jpeg: 768x768 1 license_plate, 28.7ms\n",
      "image 7/41 /Users/artemiymirotvortsev/Documents/GitHub/license-plate-detection/notebooks/../data/test/IMG_0379.jpeg: 768x768 2 license_plates, 28.7ms\n",
      "image 8/41 /Users/artemiymirotvortsev/Documents/GitHub/license-plate-detection/notebooks/../data/test/IMG_0636.jpeg: 768x768 2 license_plates, 28.7ms\n",
      "image 9/41 /Users/artemiymirotvortsev/Documents/GitHub/license-plate-detection/notebooks/../data/test/IMG_0686.jpeg: 768x768 1 license_plate, 28.7ms\n",
      "image 10/41 /Users/artemiymirotvortsev/Documents/GitHub/license-plate-detection/notebooks/../data/test/IMG_0777.jpeg: 768x768 1 license_plate, 28.7ms\n",
      "image 11/41 /Users/artemiymirotvortsev/Documents/GitHub/license-plate-detection/notebooks/../data/test/IMG_0972.jpeg: 768x768 1 license_plate, 28.7ms\n",
      "image 12/41 /Users/artemiymirotvortsev/Documents/GitHub/license-plate-detection/notebooks/../data/test/IMG_1489.jpeg: 768x768 3 license_plates, 28.7ms\n",
      "image 13/41 /Users/artemiymirotvortsev/Documents/GitHub/license-plate-detection/notebooks/../data/test/IMG_1574.jpeg: 768x768 2 license_plates, 28.7ms\n",
      "image 14/41 /Users/artemiymirotvortsev/Documents/GitHub/license-plate-detection/notebooks/../data/test/IMG_1864.jpeg: 768x768 (no detections), 28.7ms\n",
      "image 15/41 /Users/artemiymirotvortsev/Documents/GitHub/license-plate-detection/notebooks/../data/test/IMG_1888.jpeg: 768x768 1 license_plate, 28.7ms\n",
      "image 16/41 /Users/artemiymirotvortsev/Documents/GitHub/license-plate-detection/notebooks/../data/test/IMG_2991.jpeg: 768x768 2 license_plates, 28.7ms\n",
      "image 17/41 /Users/artemiymirotvortsev/Documents/GitHub/license-plate-detection/notebooks/../data/test/IMG_3044.jpeg: 768x768 3 license_plates, 28.7ms\n",
      "image 18/41 /Users/artemiymirotvortsev/Documents/GitHub/license-plate-detection/notebooks/../data/test/IMG_3097.jpeg: 768x768 1 license_plate, 28.7ms\n",
      "image 19/41 /Users/artemiymirotvortsev/Documents/GitHub/license-plate-detection/notebooks/../data/test/IMG_3099.jpeg: 768x768 1 license_plate, 28.7ms\n",
      "image 20/41 /Users/artemiymirotvortsev/Documents/GitHub/license-plate-detection/notebooks/../data/test/IMG_4822.jpeg: 768x768 1 license_plate, 28.7ms\n",
      "image 21/41 /Users/artemiymirotvortsev/Documents/GitHub/license-plate-detection/notebooks/../data/test/IMG_4990.jpeg: 768x768 1 license_plate, 28.7ms\n",
      "image 22/41 /Users/artemiymirotvortsev/Documents/GitHub/license-plate-detection/notebooks/../data/test/IMG_5301.jpeg: 768x768 1 license_plate, 28.7ms\n",
      "image 23/41 /Users/artemiymirotvortsev/Documents/GitHub/license-plate-detection/notebooks/../data/test/IMG_5522.jpeg: 768x768 1 license_plate, 28.7ms\n",
      "image 24/41 /Users/artemiymirotvortsev/Documents/GitHub/license-plate-detection/notebooks/../data/test/IMG_5537.jpeg: 768x768 1 license_plate, 28.7ms\n",
      "image 25/41 /Users/artemiymirotvortsev/Documents/GitHub/license-plate-detection/notebooks/../data/test/IMG_5643.jpeg: 768x768 1 license_plate, 28.7ms\n",
      "image 26/41 /Users/artemiymirotvortsev/Documents/GitHub/license-plate-detection/notebooks/../data/test/IMG_5725.jpeg: 768x768 1 license_plate, 28.7ms\n",
      "image 27/41 /Users/artemiymirotvortsev/Documents/GitHub/license-plate-detection/notebooks/../data/test/IMG_5915.jpeg: 768x768 1 license_plate, 28.7ms\n",
      "image 28/41 /Users/artemiymirotvortsev/Documents/GitHub/license-plate-detection/notebooks/../data/test/IMG_6384.jpeg: 768x768 (no detections), 28.7ms\n",
      "image 29/41 /Users/artemiymirotvortsev/Documents/GitHub/license-plate-detection/notebooks/../data/test/IMG_6400.jpeg: 768x768 1 license_plate, 28.7ms\n",
      "image 30/41 /Users/artemiymirotvortsev/Documents/GitHub/license-plate-detection/notebooks/../data/test/IMG_6775.jpeg: 768x768 (no detections), 28.7ms\n",
      "image 31/41 /Users/artemiymirotvortsev/Documents/GitHub/license-plate-detection/notebooks/../data/test/IMG_6905.jpeg: 768x768 2 license_plates, 28.7ms\n",
      "image 32/41 /Users/artemiymirotvortsev/Documents/GitHub/license-plate-detection/notebooks/../data/test/IMG_8851.jpeg: 768x768 4 license_plates, 28.7ms\n",
      "image 33/41 /Users/artemiymirotvortsev/Documents/GitHub/license-plate-detection/notebooks/../data/test/IMG_8853.jpeg: 768x768 2 license_plates, 28.7ms\n",
      "image 34/41 /Users/artemiymirotvortsev/Documents/GitHub/license-plate-detection/notebooks/../data/test/IMG_8889.jpeg: 768x768 1 license_plate, 28.7ms\n",
      "image 35/41 /Users/artemiymirotvortsev/Documents/GitHub/license-plate-detection/notebooks/../data/test/IMG_9052.jpeg: 768x768 1 license_plate, 28.7ms\n",
      "image 36/41 /Users/artemiymirotvortsev/Documents/GitHub/license-plate-detection/notebooks/../data/test/IMG_9391.jpeg: 768x768 1 license_plate, 28.7ms\n",
      "image 37/41 /Users/artemiymirotvortsev/Documents/GitHub/license-plate-detection/notebooks/../data/test/IMG_9568.jpeg: 768x768 2 license_plates, 28.7ms\n",
      "image 38/41 /Users/artemiymirotvortsev/Documents/GitHub/license-plate-detection/notebooks/../data/test/IMG_9603.jpeg: 768x768 3 license_plates, 28.7ms\n",
      "image 39/41 /Users/artemiymirotvortsev/Documents/GitHub/license-plate-detection/notebooks/../data/test/IMG_9609.jpeg: 768x768 1 license_plate, 28.7ms\n",
      "image 40/41 /Users/artemiymirotvortsev/Documents/GitHub/license-plate-detection/notebooks/../data/test/IMG_9701.jpeg: 768x768 1 license_plate, 28.7ms\n",
      "image 41/41 /Users/artemiymirotvortsev/Documents/GitHub/license-plate-detection/notebooks/../data/test/Изображение 8.jpeg: 768x768 1 license_plate, 28.7ms\n",
      "Speed: 2.5ms preprocess, 28.7ms inference, 7.0ms postprocess per image at shape (41, 3, 768, 768)\n",
      "Results saved to \u001B[1m/Users/artemiymirotvortsev/Documents/GitHub/license-plate-detection/runs/detect/yolo11s_tests\u001B[0m\n"
     ]
    }
   ],
   "execution_count": 13
  },
  {
   "metadata": {},
   "cell_type": "markdown",
   "source": "# Detectron",
   "id": "a8110c3fa8b87966"
  },
  {
   "metadata": {
    "ExecuteTime": {
     "end_time": "2025-08-28T07:20:30.560269Z",
     "start_time": "2025-08-28T07:20:28.967083Z"
    }
   },
   "cell_type": "code",
   "source": "from license_plate_detection.predict import predict_detectron",
   "id": "d480f457cab053be",
   "outputs": [
    {
     "name": "stderr",
     "output_type": "stream",
     "text": [
      "\u001B[32m2025-08-28 11:20:28.978\u001B[0m | \u001B[1mINFO    \u001B[0m | \u001B[36mlicense_plate_detection.config\u001B[0m:\u001B[36m<module>\u001B[0m:\u001B[36m16\u001B[0m - \u001B[1mPROJ_ROOT path is: /Users/artemiymirotvortsev/Documents/GitHub/license-plate-detection\u001B[0m\n"
     ]
    },
    {
     "name": "stdout",
     "output_type": "stream",
     "text": [
      "\u001B[32m2025-08-28 11:20:28.984\u001B[0m | \u001B[1mINFO    \u001B[0m | \u001B[36mlicense_plate_detection.colab_config\u001B[0m:\u001B[36m<module>\u001B[0m:\u001B[36m13\u001B[0m - \u001B[1mPROJ_ROOT path is: /content/license-plate-detection\u001B[0m\n"
     ]
    },
    {
     "name": "stderr",
     "output_type": "stream",
     "text": [
      "/Users/artemiymirotvortsev/Documents/GitHub/license-plate-detection/.venv/lib/python3.9/site-packages/detectron2/model_zoo/model_zoo.py:4: UserWarning: pkg_resources is deprecated as an API. See https://setuptools.pypa.io/en/latest/pkg_resources.html. The pkg_resources package is slated for removal as early as 2025-11-30. Refrain from using this package or pin to Setuptools<81.\n",
      "  import pkg_resources\n"
     ]
    }
   ],
   "execution_count": 1
  },
  {
   "metadata": {
    "ExecuteTime": {
     "end_time": "2025-08-28T07:21:28.653405Z",
     "start_time": "2025-08-28T07:20:37.743059Z"
    }
   },
   "cell_type": "code",
   "source": [
    "predict_detectron(\n",
    "    model_weights=\"../models/Detectron2/model_final.pth\",\n",
    "    num_classes=1,\n",
    "    test_data_dir=TEST_DATA_DIR,\n",
    "    dataset_name=\"plate_test\",\n",
    "    device=\"cpu\"\n",
    ")"
   ],
   "id": "f80ea4d4206724e0",
   "outputs": [
    {
     "name": "stderr",
     "output_type": "stream",
     "text": [
      "/Users/artemiymirotvortsev/Documents/GitHub/license-plate-detection/.venv/lib/python3.9/site-packages/fvcore/common/checkpoint.py:252: FutureWarning: You are using `torch.load` with `weights_only=False` (the current default value), which uses the default pickle module implicitly. It is possible to construct malicious pickle data which will execute arbitrary code during unpickling (See https://github.com/pytorch/pytorch/blob/main/SECURITY.md#untrusted-models for more details). In a future release, the default value for `weights_only` will be flipped to `True`. This limits the functions that could be executed during unpickling. Arbitrary objects will no longer be allowed to be loaded via this mode unless they are explicitly allowlisted by the user via `torch.serialization.add_safe_globals`. We recommend you start setting `weights_only=True` for any use case where you don't have full control of the loaded file. Please open an issue on GitHub for any issues related to this experimental feature.\n",
      "  return torch.load(f, map_location=torch.device(\"cpu\"))\n",
      "/Users/artemiymirotvortsev/Documents/GitHub/license-plate-detection/.venv/lib/python3.9/site-packages/torch/functional.py:534: UserWarning: torch.meshgrid: in an upcoming release, it will be required to pass the indexing argument. (Triggered internally at /Users/runner/work/pytorch/pytorch/pytorch/aten/src/ATen/native/TensorShape.cpp:3596.)\n",
      "  return _VF.meshgrid(tensors, **kwargs)  # type: ignore[attr-defined]\n"
     ]
    }
   ],
   "execution_count": 3
  }
 ],
 "metadata": {
  "kernelspec": {
   "display_name": "Python 3",
   "language": "python",
   "name": "python3"
  },
  "language_info": {
   "codemirror_mode": {
    "name": "ipython",
    "version": 2
   },
   "file_extension": ".py",
   "mimetype": "text/x-python",
   "name": "python",
   "nbconvert_exporter": "python",
   "pygments_lexer": "ipython2",
   "version": "2.7.6"
  }
 },
 "nbformat": 4,
 "nbformat_minor": 5
}
