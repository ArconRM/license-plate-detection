{
 "cells": [
  {
   "metadata": {},
   "cell_type": "markdown",
   "source": "# Загрузка",
   "id": "63f60b5e24e568d7"
  },
  {
   "metadata": {
    "collapsed": true
   },
   "cell_type": "code",
   "outputs": [],
   "execution_count": null,
   "source": "!pip install -r ../requirements.txt",
   "id": "f470e9201815004a"
  },
  {
   "metadata": {},
   "cell_type": "code",
   "outputs": [],
   "execution_count": null,
   "source": "!pip install -r ../requirements_yolo.txt",
   "id": "dd60760315709bd0"
  },
  {
   "metadata": {},
   "cell_type": "code",
   "outputs": [],
   "execution_count": null,
   "source": [
    "!pip install -r ../requirements_detectron.txt\n",
    "!pip install --no-build-isolation git+https://github.com/facebookresearch/detectron2.git"
   ],
   "id": "a507bd922a96c163"
  },
  {
   "metadata": {},
   "cell_type": "code",
   "outputs": [],
   "execution_count": null,
   "source": [
    "from license_plate_detection.dataset import unzip_dataset, process_coco_dataset, download_dataset\n",
    "from license_plate_detection.config import * # or from license_plate_detection.colab_config import * for colab"
   ],
   "id": "f00cb946f7e6797f"
  },
  {
   "metadata": {},
   "cell_type": "code",
   "outputs": [],
   "execution_count": null,
   "source": [
    "@title Колаб\n",
    "\n",
    "# from google.colab import drive\n",
    "# drive.mount('/content/drive')\n",
    "\n",
    "%cd /content\n",
    "!rm -rf /content/license-plate-detection\n",
    "!git clone https://github.com/ArconRM/license-plate-detection\n",
    "%cd /content/license-plate-detection"
   ],
   "id": "56721338bf2714aa"
  },
  {
   "metadata": {},
   "cell_type": "code",
   "outputs": [],
   "execution_count": null,
   "source": [
    "@title Локально\n",
    "\n",
    "download_dataset(DATASET_URL, DATASET_PATH) # skip if already downloaded zip to DATASET_PATH\n",
    "unzip_dataset(DATASET_PATH, RAW_DATA_DIR)"
   ],
   "id": "ab1b509a1d95672d"
  },
  {
   "metadata": {},
   "cell_type": "code",
   "outputs": [],
   "execution_count": null,
   "source": [
    "splits = process_coco_dataset(\n",
    "    in_base = RAW_DATA_DIR,\n",
    "    out_base=PROCESSED_DATA_DIR,\n",
    "    train_ratio=0.7,\n",
    "    val_ratio=0.2,\n",
    "    seed=42\n",
    ")"
   ],
   "id": "b4b82e7fac55bb08"
  },
  {
   "metadata": {},
   "cell_type": "markdown",
   "source": "# YOLO",
   "id": "7c56575c10572259"
  },
  {
   "metadata": {},
   "cell_type": "code",
   "outputs": [],
   "execution_count": null,
   "source": [
    "from license_plate_detection.yolo_utils import convert_coco_to_yolo\n",
    "from license_plate_detection.train import train_yolo_model"
   ],
   "id": "e293083eca86a99b"
  },
  {
   "metadata": {},
   "cell_type": "code",
   "outputs": [],
   "execution_count": null,
   "source": "convert_coco_to_yolo(PROCESSED_DATA_DIR, YOLO_DATA_DIR)",
   "id": "96ea3ac6dff6ae2e"
  },
  {
   "metadata": {},
   "cell_type": "code",
   "outputs": [],
   "execution_count": null,
   "source": "train_yolo_model('yolo5s.pt', 'data.yaml', epochs=20, img_size=768)",
   "id": "178ad1f3fb3d91ec"
  },
  {
   "metadata": {},
   "cell_type": "code",
   "outputs": [],
   "execution_count": null,
   "source": "train_yolo_model('yolo8s.pt', 'data.yaml', epochs=20, img_size=768)",
   "id": "8ba48399c4ac550d"
  },
  {
   "metadata": {},
   "cell_type": "code",
   "outputs": [],
   "execution_count": null,
   "source": "train_yolo_model('yolo11s.pt', 'data.yaml', epochs=20, img_size=768)",
   "id": "98a897914b6380b9"
  },
  {
   "metadata": {},
   "cell_type": "markdown",
   "source": "# Detectron",
   "id": "133c3c2171bad508"
  },
  {
   "metadata": {},
   "cell_type": "code",
   "outputs": [],
   "execution_count": null,
   "source": [
    "from detectron2.data.datasets import register_coco_instances\n",
    "\n",
    "from license_plate_detection.train import train_detectron\n",
    "from license_plate_detection.predict import predict_detectron"
   ],
   "id": "375abe6980b136f5"
  },
  {
   "metadata": {},
   "cell_type": "code",
   "outputs": [],
   "execution_count": null,
   "source": [
    "register_coco_instances(\"plate_train\", {}, \"/content/license-plate-detection/data/processed/train.json\", \"/content/license-plate-detection/data/processed/images/train\")\n",
    "register_coco_instances(\"plate_val\", {}, \"/content/license-plate-detection/data/processed/val.json\", \"/content/license-plate-detection/data/processed/images/val\")\n",
    "register_coco_instances(\"plate_test\", {}, \"/content/license-plate-detection/data/processed/test.json\", \"/content/license-plate-detection/data/processed/images/test\")"
   ],
   "id": "2ec3b3fc4dc57b98"
  },
  {
   "metadata": {},
   "cell_type": "code",
   "outputs": [],
   "execution_count": null,
   "source": [
    "train_detectron(\n",
    "    train_dataset_name=\"plate_train\",\n",
    "    val_dataset_name=\"plate_val\",\n",
    "    num_classes=1,\n",
    "    batch_size=3,\n",
    "    max_iter=20000,\n",
    "    output_dir=\"./output\"\n",
    ")"
   ],
   "id": "9721b04a8f8ad024"
  },
  {
   "metadata": {},
   "cell_type": "code",
   "outputs": [],
   "execution_count": null,
   "source": [
    "# Look at training curves in tensorboard:\n",
    "%load_ext tensorboard\n",
    "%tensorboard --logdir output"
   ],
   "id": "8094b869ee3daaa8"
  }
 ],
 "metadata": {
  "kernelspec": {
   "display_name": "Python 3",
   "language": "python",
   "name": "python3"
  },
  "language_info": {
   "codemirror_mode": {
    "name": "ipython",
    "version": 2
   },
   "file_extension": ".py",
   "mimetype": "text/x-python",
   "name": "python",
   "nbconvert_exporter": "python",
   "pygments_lexer": "ipython2",
   "version": "2.7.6"
  }
 },
 "nbformat": 4,
 "nbformat_minor": 5
}
